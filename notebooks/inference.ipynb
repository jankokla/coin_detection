{
 "cells": [
  {
   "cell_type": "markdown",
   "source": [
    "# Inference\n",
    "\n",
    "This notebook is for generating Kaggle submission file. It currently incorporates two neural networks that perform segmentation and then classification."
   ],
   "metadata": {
    "collapsed": false
   },
   "id": "b403d1831804e261"
  },
  {
   "cell_type": "markdown",
   "source": [
    "## Setup"
   ],
   "metadata": {
    "collapsed": false
   },
   "id": "bdcddaa2d8e23001"
  },
  {
   "cell_type": "code",
   "execution_count": 1,
   "id": "e8eae60b35be2138",
   "metadata": {
    "collapsed": false,
    "ExecuteTime": {
     "end_time": "2024-05-12T13:06:21.495803Z",
     "start_time": "2024-05-12T13:06:21.476969Z"
    }
   },
   "outputs": [],
   "source": [
    "from matplotlib import pyplot as plt\n",
    "%load_ext autoreload\n",
    "%autoreload 2"
   ]
  },
  {
   "cell_type": "code",
   "execution_count": 58,
   "id": "initial_id",
   "metadata": {
    "collapsed": true,
    "ExecuteTime": {
     "end_time": "2024-05-12T13:51:19.295129Z",
     "start_time": "2024-05-12T13:51:19.246702Z"
    }
   },
   "outputs": [],
   "source": [
    "import pandas as pd\n",
    "import albumentations as A\n",
    "import numpy as np\n",
    "\n",
    "from scripts.models import CoinLocalizer, HierarchicalClassifier\n",
    "from scripts.training import get_best_available_device, load_params\n",
    "from scripts.utils import SegmentationDataset, split_data, ClassificationDataset, \\\n",
    "    generate_hough, get_cropped_image, get_segmentation, get_class\n",
    "from scripts.config import example_row, row_template, ID_TO_LABEL\n",
    "\n",
    "from PIL import Image\n",
    "from collections import Counter\n",
    "from torch.utils.data import DataLoader"
   ]
  },
  {
   "cell_type": "markdown",
   "source": [
    "## Dataset\n",
    "\n",
    "Specify the test directory, generate Imagenet specific transforms, initialize the dataset and put it into dataloader."
   ],
   "metadata": {
    "collapsed": false
   },
   "id": "608c78b94ab3167a"
  },
  {
   "cell_type": "code",
   "execution_count": 54,
   "id": "9bb68d0734998a6",
   "metadata": {
    "collapsed": false,
    "ExecuteTime": {
     "end_time": "2024-05-12T13:48:51.646769Z",
     "start_time": "2024-05-12T13:48:51.607065Z"
    }
   },
   "outputs": [],
   "source": [
    "test_directory = \"data/test\"\n",
    "test_image_paths, _, _, _ = split_data(test_directory, 0.0, 'inference')"
   ]
  },
  {
   "cell_type": "code",
   "execution_count": 55,
   "id": "bd80a6e05cdd91b3",
   "metadata": {
    "collapsed": false,
    "ExecuteTime": {
     "end_time": "2024-05-12T13:48:52.138827Z",
     "start_time": "2024-05-12T13:48:52.098716Z"
    }
   },
   "outputs": [],
   "source": [
    "seg_tf = A.Compose([\n",
    "    A.Resize(width=600, height=400, always_apply=True),\n",
    "    A.PadIfNeeded(min_height=416, min_width=608, always_apply=True),\n",
    "])\n",
    "\n",
    "cls_tf = A.Compose([\n",
    "    A.Resize(width=224, height=224, always_apply=True),\n",
    "    A.Normalize(mean=(0.485, 0.456, 0.406), std=(0.229, 0.224, 0.225), always_apply=True)  # imagenet specific\n",
    "])"
   ]
  },
  {
   "cell_type": "code",
   "execution_count": 56,
   "id": "2822f296bd7322c8",
   "metadata": {
    "collapsed": false,
    "ExecuteTime": {
     "end_time": "2024-05-12T13:48:52.652202Z",
     "start_time": "2024-05-12T13:48:52.616290Z"
    }
   },
   "outputs": [],
   "source": [
    "test_ds = SegmentationDataset(\n",
    "    image_paths=test_image_paths,\n",
    "    transform=seg_tf,\n",
    ")\n",
    "\n",
    "test_loader = DataLoader(test_ds, batch_size=1)"
   ]
  },
  {
   "cell_type": "markdown",
   "source": [
    "## Models\n",
    "\n",
    "Initialize segmentation and classification models and load pre-trained weights."
   ],
   "metadata": {
    "collapsed": false
   },
   "id": "d9ebe5405b921096"
  },
  {
   "cell_type": "code",
   "execution_count": 57,
   "id": "afff49e81eb3ef9d",
   "metadata": {
    "collapsed": false,
    "ExecuteTime": {
     "end_time": "2024-05-12T13:48:56.355832Z",
     "start_time": "2024-05-12T13:48:53.962271Z"
    }
   },
   "outputs": [],
   "source": [
    "device = get_best_available_device()\n",
    "\n",
    "seg_model = CoinLocalizer()\n",
    "seg_model = load_params(seg_model, 'segmentation_.pt')\n",
    "\n",
    "cls_model = HierarchicalClassifier()\n",
    "\n",
    "cls_model = cls_model.to(device)\n",
    "model = seg_model.to(device)"
   ]
  },
  {
   "cell_type": "markdown",
   "source": [
    "## Inference\n",
    "\n",
    "Iterate over images, extract coins and predict their class."
   ],
   "metadata": {
    "collapsed": false
   },
   "id": "41fc51ad328623dc"
  },
  {
   "cell_type": "code",
   "execution_count": 49,
   "outputs": [],
   "source": [
    "# generate empty df for predictions\n",
    "df = pd.DataFrame(columns=example_row)"
   ],
   "metadata": {
    "collapsed": false,
    "ExecuteTime": {
     "end_time": "2024-05-12T13:39:15.577403Z",
     "start_time": "2024-05-12T13:39:15.533198Z"
    }
   },
   "id": "de8b71edb130932f"
  },
  {
   "cell_type": "code",
   "execution_count": 50,
   "id": "4af771d8de768670",
   "metadata": {
    "collapsed": false,
    "ExecuteTime": {
     "end_time": "2024-05-12T13:43:14.879047Z",
     "start_time": "2024-05-12T13:39:15.930896Z"
    }
   },
   "outputs": [],
   "source": [
    "id_to_label = np.vectorize(lambda x: ID_TO_LABEL.get(x, \"Unknown\"))\n",
    "\n",
    "for i, (image, _, filename) in enumerate(test_loader):\n",
    "\n",
    "    image = image.to(device)\n",
    "\n",
    "    predicted = get_segmentation(model, image)\n",
    "\n",
    "    circles, hough_img = generate_hough(predicted, image)\n",
    "    \n",
    "    original_img = Image.open(f\"data/test/{filename[0]}\")\n",
    "    original_img = np.array(original_img)\n",
    "    \n",
    "    # segmentation was done on smaller images -> reset the coordinates for original images\n",
    "    x_ratio = 6000 / image.shape[3]\n",
    "    y_ratio = 4000 / image.shape[2]\n",
    "\n",
    "    labels = []\n",
    "\n",
    "    for j, (x, y, r) in enumerate(circles):\n",
    "        \n",
    "        cropped_image = get_cropped_image(original_img, x, y, r, x_ratio, y_ratio)\n",
    "        plt.imshow()\n",
    "        \n",
    "        # initiate the dataloader\n",
    "        coin_loader = DataLoader(ClassificationDataset(cropped_image, transform=cls_tf))\n",
    "        coin_iterator = iter(coin_loader)\n",
    "        coin, _, radius = next(coin_iterator)\n",
    "        \n",
    "        # predict the class and add it to labels\n",
    "        coin_label = get_class(cls_model, coin, radius, id_to_label)\n",
    "        labels.append(coin_label)\n",
    "    \n",
    "    # count prediction labels and update template dictionary\n",
    "    row = row_template.copy()\n",
    "    new_count = Counter(labels)\n",
    "    row.update(new_count)\n",
    "    \n",
    "    # add row to the df\n",
    "    new_row_df = pd.DataFrame([row], index=[filename[0].split('.')[0]])\n",
    "    df = pd.concat([df, new_row_df])"
   ]
  },
  {
   "cell_type": "code",
   "execution_count": 51,
   "outputs": [
    {
     "data": {
      "text/plain": "         5CHF 2CHF 1CHF 0.5CHF 0.2CHF 0.1CHF 0.05CHF 2EUR 1EUR 0.5EUR 0.2EUR  \\\nid                                                                             \nL0000000    0    2    0      0      0      1       0    0    0      0      0   \nL0000001    0    4    0      0      2      0       0    1    0      1      2   \nL0000002    3    0    0      0      1      0       0    0    0      0      0   \nL0000003    0    0    1      2      0      0       1    0    0      0      0   \nL0000004    0    1    0      1      0      2       0    2    0      0      0   \n\n         0.1EUR 0.05EUR 0.02EUR 0.01EUR OOD  \nid                                           \nL0000000      0       0       0       0   0  \nL0000001      0       0       0       0   0  \nL0000002      0       0       0       0   0  \nL0000003      1       1       1       0   1  \nL0000004      0       0       0       0   0  ",
      "text/html": "<div>\n<style scoped>\n    .dataframe tbody tr th:only-of-type {\n        vertical-align: middle;\n    }\n\n    .dataframe tbody tr th {\n        vertical-align: top;\n    }\n\n    .dataframe thead th {\n        text-align: right;\n    }\n</style>\n<table border=\"1\" class=\"dataframe\">\n  <thead>\n    <tr style=\"text-align: right;\">\n      <th></th>\n      <th>5CHF</th>\n      <th>2CHF</th>\n      <th>1CHF</th>\n      <th>0.5CHF</th>\n      <th>0.2CHF</th>\n      <th>0.1CHF</th>\n      <th>0.05CHF</th>\n      <th>2EUR</th>\n      <th>1EUR</th>\n      <th>0.5EUR</th>\n      <th>0.2EUR</th>\n      <th>0.1EUR</th>\n      <th>0.05EUR</th>\n      <th>0.02EUR</th>\n      <th>0.01EUR</th>\n      <th>OOD</th>\n    </tr>\n    <tr>\n      <th>id</th>\n      <th></th>\n      <th></th>\n      <th></th>\n      <th></th>\n      <th></th>\n      <th></th>\n      <th></th>\n      <th></th>\n      <th></th>\n      <th></th>\n      <th></th>\n      <th></th>\n      <th></th>\n      <th></th>\n      <th></th>\n      <th></th>\n    </tr>\n  </thead>\n  <tbody>\n    <tr>\n      <th>L0000000</th>\n      <td>0</td>\n      <td>2</td>\n      <td>0</td>\n      <td>0</td>\n      <td>0</td>\n      <td>1</td>\n      <td>0</td>\n      <td>0</td>\n      <td>0</td>\n      <td>0</td>\n      <td>0</td>\n      <td>0</td>\n      <td>0</td>\n      <td>0</td>\n      <td>0</td>\n      <td>0</td>\n    </tr>\n    <tr>\n      <th>L0000001</th>\n      <td>0</td>\n      <td>4</td>\n      <td>0</td>\n      <td>0</td>\n      <td>2</td>\n      <td>0</td>\n      <td>0</td>\n      <td>1</td>\n      <td>0</td>\n      <td>1</td>\n      <td>2</td>\n      <td>0</td>\n      <td>0</td>\n      <td>0</td>\n      <td>0</td>\n      <td>0</td>\n    </tr>\n    <tr>\n      <th>L0000002</th>\n      <td>3</td>\n      <td>0</td>\n      <td>0</td>\n      <td>0</td>\n      <td>1</td>\n      <td>0</td>\n      <td>0</td>\n      <td>0</td>\n      <td>0</td>\n      <td>0</td>\n      <td>0</td>\n      <td>0</td>\n      <td>0</td>\n      <td>0</td>\n      <td>0</td>\n      <td>0</td>\n    </tr>\n    <tr>\n      <th>L0000003</th>\n      <td>0</td>\n      <td>0</td>\n      <td>1</td>\n      <td>2</td>\n      <td>0</td>\n      <td>0</td>\n      <td>1</td>\n      <td>0</td>\n      <td>0</td>\n      <td>0</td>\n      <td>0</td>\n      <td>1</td>\n      <td>1</td>\n      <td>1</td>\n      <td>0</td>\n      <td>1</td>\n    </tr>\n    <tr>\n      <th>L0000004</th>\n      <td>0</td>\n      <td>1</td>\n      <td>0</td>\n      <td>1</td>\n      <td>0</td>\n      <td>2</td>\n      <td>0</td>\n      <td>2</td>\n      <td>0</td>\n      <td>0</td>\n      <td>0</td>\n      <td>0</td>\n      <td>0</td>\n      <td>0</td>\n      <td>0</td>\n      <td>0</td>\n    </tr>\n  </tbody>\n</table>\n</div>"
     },
     "execution_count": 51,
     "metadata": {},
     "output_type": "execute_result"
    }
   ],
   "source": [
    "# add index name as necessary for Kaggle\n",
    "df.index.name='id'\n",
    "df.head()"
   ],
   "metadata": {
    "collapsed": false,
    "ExecuteTime": {
     "end_time": "2024-05-12T13:44:46.020463Z",
     "start_time": "2024-05-12T13:44:45.493770Z"
    }
   },
   "id": "19baabd1526376c8"
  },
  {
   "cell_type": "code",
   "execution_count": 52,
   "outputs": [],
   "source": [
    "df.to_csv('test_submission.csv')"
   ],
   "metadata": {
    "collapsed": false,
    "ExecuteTime": {
     "end_time": "2024-05-12T13:44:52.338548Z",
     "start_time": "2024-05-12T13:44:52.291631Z"
    }
   },
   "id": "9472a87fb947681a"
  },
  {
   "cell_type": "code",
   "execution_count": null,
   "outputs": [],
   "source": [],
   "metadata": {
    "collapsed": false
   },
   "id": "f77bd5002d61b060"
  }
 ],
 "metadata": {
  "kernelspec": {
   "display_name": "Python 3",
   "language": "python",
   "name": "python3"
  },
  "language_info": {
   "codemirror_mode": {
    "name": "ipython",
    "version": 3
   },
   "file_extension": ".py",
   "mimetype": "text/x-python",
   "name": "python",
   "nbconvert_exporter": "python",
   "pygments_lexer": "ipython3",
   "version": "3.9.18"
  }
 },
 "nbformat": 4,
 "nbformat_minor": 5
}
