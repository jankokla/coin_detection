{
 "cells": [
  {
   "cell_type": "code",
   "execution_count": 4,
   "outputs": [
    {
     "name": "stdout",
     "output_type": "stream",
     "text": [
      "The autoreload extension is already loaded. To reload it, use:\n",
      "  %reload_ext autoreload\n"
     ]
    }
   ],
   "source": [
    "%load_ext autoreload\n",
    "%autoreload 2"
   ],
   "metadata": {
    "collapsed": false,
    "ExecuteTime": {
     "end_time": "2024-05-10T07:09:01.313791Z",
     "start_time": "2024-05-10T07:09:01.270452Z"
    }
   },
   "id": "e8eae60b35be2138"
  },
  {
   "cell_type": "code",
   "execution_count": 48,
   "id": "initial_id",
   "metadata": {
    "collapsed": true,
    "ExecuteTime": {
     "end_time": "2024-05-10T07:27:02.328569Z",
     "start_time": "2024-05-10T07:27:02.258026Z"
    }
   },
   "outputs": [],
   "source": [
    "import albumentations as A\n",
    "import numpy as np\n",
    "import segmentation_models_pytorch as smp\n",
    "import torch\n",
    "from scripts.training import get_best_available_device, load_updated_params\n",
    "from torch.utils.data import DataLoader\n",
    "from matplotlib import pyplot as plt\n",
    "import cv2 as cv\n",
    "from scripts.utils import SegmentationDataset, split_data, get_prediction, filter_circles"
   ]
  },
  {
   "cell_type": "code",
   "execution_count": 34,
   "outputs": [],
   "source": [
    "test_directory = \"data/test\"\n",
    "\n",
    "image_paths, _, _, _ = split_data(test_directory, 0.0, 'inference')"
   ],
   "metadata": {
    "collapsed": false,
    "ExecuteTime": {
     "end_time": "2024-05-10T07:18:27.924788Z",
     "start_time": "2024-05-10T07:18:27.861373Z"
    }
   },
   "id": "9bb68d0734998a6"
  },
  {
   "cell_type": "code",
   "execution_count": 35,
   "outputs": [],
   "source": [
    "seg_tf = A.Compose([\n",
    "    A.Resize(width=600, height=400, always_apply=True),\n",
    "    A.PadIfNeeded(min_height=416, min_width=608, always_apply=True),\n",
    "])"
   ],
   "metadata": {
    "collapsed": false,
    "ExecuteTime": {
     "end_time": "2024-05-10T07:18:29.065385Z",
     "start_time": "2024-05-10T07:18:29.001555Z"
    }
   },
   "id": "bd80a6e05cdd91b3"
  },
  {
   "cell_type": "code",
   "execution_count": 36,
   "outputs": [],
   "source": [
    "val_ds = SegmentationDataset(\n",
    "    image_paths=image_paths,\n",
    "    transform=seg_tf,\n",
    ")\n",
    "\n",
    "loader = DataLoader(val_ds, batch_size=1)"
   ],
   "metadata": {
    "collapsed": false,
    "ExecuteTime": {
     "end_time": "2024-05-10T07:18:29.803831Z",
     "start_time": "2024-05-10T07:18:29.749439Z"
    }
   },
   "id": "2822f296bd7322c8"
  },
  {
   "cell_type": "code",
   "execution_count": 38,
   "outputs": [],
   "source": [
    "model = smp.Unet(\n",
    "    encoder_name=\"resnet50\",\n",
    "    encoder_weights=\"imagenet\",\n",
    "    in_channels=3,\n",
    "    classes=1,\n",
    ")\n",
    "\n",
    "model = load_updated_params(model, 'models/segmentation_20eps.pt')\n",
    "model = model.to(get_best_available_device())"
   ],
   "metadata": {
    "collapsed": false,
    "ExecuteTime": {
     "end_time": "2024-05-10T07:18:49.799374Z",
     "start_time": "2024-05-10T07:18:47.548071Z"
    }
   },
   "id": "afff49e81eb3ef9d"
  },
  {
   "cell_type": "code",
   "execution_count": 47,
   "outputs": [
    {
     "ename": "KeyboardInterrupt",
     "evalue": "",
     "output_type": "error",
     "traceback": [
      "\u001B[0;31m---------------------------------------------------------------------------\u001B[0m",
      "\u001B[0;31mKeyboardInterrupt\u001B[0m                         Traceback (most recent call last)",
      "Cell \u001B[0;32mIn[47], line 8\u001B[0m\n\u001B[1;32m      5\u001B[0m circles \u001B[38;5;241m=\u001B[39m cv\u001B[38;5;241m.\u001B[39mHoughCircles((predicted \u001B[38;5;241m*\u001B[39m \u001B[38;5;241m255\u001B[39m)\u001B[38;5;241m.\u001B[39mastype(np\u001B[38;5;241m.\u001B[39muint8), cv\u001B[38;5;241m.\u001B[39mHOUGH_GRADIENT, \u001B[38;5;241m1\u001B[39m, \u001B[38;5;241m20\u001B[39m, param1\u001B[38;5;241m=\u001B[39m\u001B[38;5;241m200\u001B[39m, param2\u001B[38;5;241m=\u001B[39m\u001B[38;5;241m10\u001B[39m, minRadius\u001B[38;5;241m=\u001B[39m\u001B[38;5;241m15\u001B[39m, maxRadius\u001B[38;5;241m=\u001B[39m\u001B[38;5;241m55\u001B[39m)\n\u001B[1;32m      6\u001B[0m circles \u001B[38;5;241m=\u001B[39m filter_circles(circles)\n\u001B[0;32m----> 8\u001B[0m kala \u001B[38;5;241m=\u001B[39m \u001B[38;5;241m1\u001B[39m\n",
      "Cell \u001B[0;32mIn[47], line 8\u001B[0m\n\u001B[1;32m      5\u001B[0m circles \u001B[38;5;241m=\u001B[39m cv\u001B[38;5;241m.\u001B[39mHoughCircles((predicted \u001B[38;5;241m*\u001B[39m \u001B[38;5;241m255\u001B[39m)\u001B[38;5;241m.\u001B[39mastype(np\u001B[38;5;241m.\u001B[39muint8), cv\u001B[38;5;241m.\u001B[39mHOUGH_GRADIENT, \u001B[38;5;241m1\u001B[39m, \u001B[38;5;241m20\u001B[39m, param1\u001B[38;5;241m=\u001B[39m\u001B[38;5;241m200\u001B[39m, param2\u001B[38;5;241m=\u001B[39m\u001B[38;5;241m10\u001B[39m, minRadius\u001B[38;5;241m=\u001B[39m\u001B[38;5;241m15\u001B[39m, maxRadius\u001B[38;5;241m=\u001B[39m\u001B[38;5;241m55\u001B[39m)\n\u001B[1;32m      6\u001B[0m circles \u001B[38;5;241m=\u001B[39m filter_circles(circles)\n\u001B[0;32m----> 8\u001B[0m kala \u001B[38;5;241m=\u001B[39m \u001B[38;5;241m1\u001B[39m\n",
      "File \u001B[0;32m_pydevd_bundle/pydevd_cython_darwin_39_64.pyx:1179\u001B[0m, in \u001B[0;36m_pydevd_bundle.pydevd_cython_darwin_39_64.SafeCallWrapper.__call__\u001B[0;34m()\u001B[0m\n",
      "File \u001B[0;32m_pydevd_bundle/pydevd_cython_darwin_39_64.pyx:620\u001B[0m, in \u001B[0;36m_pydevd_bundle.pydevd_cython_darwin_39_64.PyDBFrame.trace_dispatch\u001B[0;34m()\u001B[0m\n",
      "File \u001B[0;32m_pydevd_bundle/pydevd_cython_darwin_39_64.pyx:929\u001B[0m, in \u001B[0;36m_pydevd_bundle.pydevd_cython_darwin_39_64.PyDBFrame.trace_dispatch\u001B[0;34m()\u001B[0m\n",
      "File \u001B[0;32m_pydevd_bundle/pydevd_cython_darwin_39_64.pyx:920\u001B[0m, in \u001B[0;36m_pydevd_bundle.pydevd_cython_darwin_39_64.PyDBFrame.trace_dispatch\u001B[0;34m()\u001B[0m\n",
      "File \u001B[0;32m_pydevd_bundle/pydevd_cython_darwin_39_64.pyx:317\u001B[0m, in \u001B[0;36m_pydevd_bundle.pydevd_cython_darwin_39_64.PyDBFrame.do_wait_suspend\u001B[0;34m()\u001B[0m\n",
      "File \u001B[0;32m/Applications/PyCharm.app/Contents/plugins/python/helpers/pydev/pydevd.py:1160\u001B[0m, in \u001B[0;36mPyDB.do_wait_suspend\u001B[0;34m(self, thread, frame, event, arg, send_suspend_message, is_unhandled_exception)\u001B[0m\n\u001B[1;32m   1157\u001B[0m         from_this_thread\u001B[38;5;241m.\u001B[39mappend(frame_id)\n\u001B[1;32m   1159\u001B[0m \u001B[38;5;28;01mwith\u001B[39;00m \u001B[38;5;28mself\u001B[39m\u001B[38;5;241m.\u001B[39m_threads_suspended_single_notification\u001B[38;5;241m.\u001B[39mnotify_thread_suspended(thread_id, stop_reason):\n\u001B[0;32m-> 1160\u001B[0m     \u001B[38;5;28;43mself\u001B[39;49m\u001B[38;5;241;43m.\u001B[39;49m\u001B[43m_do_wait_suspend\u001B[49m\u001B[43m(\u001B[49m\u001B[43mthread\u001B[49m\u001B[43m,\u001B[49m\u001B[43m \u001B[49m\u001B[43mframe\u001B[49m\u001B[43m,\u001B[49m\u001B[43m \u001B[49m\u001B[43mevent\u001B[49m\u001B[43m,\u001B[49m\u001B[43m \u001B[49m\u001B[43marg\u001B[49m\u001B[43m,\u001B[49m\u001B[43m \u001B[49m\u001B[43msuspend_type\u001B[49m\u001B[43m,\u001B[49m\u001B[43m \u001B[49m\u001B[43mfrom_this_thread\u001B[49m\u001B[43m)\u001B[49m\n",
      "File \u001B[0;32m/Applications/PyCharm.app/Contents/plugins/python/helpers/pydev/pydevd.py:1175\u001B[0m, in \u001B[0;36mPyDB._do_wait_suspend\u001B[0;34m(self, thread, frame, event, arg, suspend_type, from_this_thread)\u001B[0m\n\u001B[1;32m   1172\u001B[0m             \u001B[38;5;28mself\u001B[39m\u001B[38;5;241m.\u001B[39m_call_mpl_hook()\n\u001B[1;32m   1174\u001B[0m         \u001B[38;5;28mself\u001B[39m\u001B[38;5;241m.\u001B[39mprocess_internal_commands()\n\u001B[0;32m-> 1175\u001B[0m         \u001B[43mtime\u001B[49m\u001B[38;5;241;43m.\u001B[39;49m\u001B[43msleep\u001B[49m\u001B[43m(\u001B[49m\u001B[38;5;241;43m0.01\u001B[39;49m\u001B[43m)\u001B[49m\n\u001B[1;32m   1177\u001B[0m \u001B[38;5;28mself\u001B[39m\u001B[38;5;241m.\u001B[39mcancel_async_evaluation(get_current_thread_id(thread), \u001B[38;5;28mstr\u001B[39m(\u001B[38;5;28mid\u001B[39m(frame)))\n\u001B[1;32m   1179\u001B[0m \u001B[38;5;66;03m# process any stepping instructions\u001B[39;00m\n",
      "\u001B[0;31mKeyboardInterrupt\u001B[0m: "
     ]
    }
   ],
   "source": [
    "for image, _, filename in loader:\n",
    "    \n",
    "    predicted = get_prediction(model, image)\n",
    "    \n",
    "    circles = cv.HoughCircles((predicted * 255).astype(np.uint8), cv.HOUGH_GRADIENT, 1, 20, param1=200, param2=10, minRadius=15, maxRadius=55)\n",
    "    circles = filter_circles(circles)\n",
    "    \n",
    "    kala = 1"
   ],
   "metadata": {
    "collapsed": false,
    "ExecuteTime": {
     "end_time": "2024-05-10T07:22:56.748921Z",
     "start_time": "2024-05-10T07:20:51.582463Z"
    }
   },
   "id": "4af771d8de768670"
  }
 ],
 "metadata": {
  "kernelspec": {
   "display_name": "Python 3",
   "language": "python",
   "name": "python3"
  },
  "language_info": {
   "codemirror_mode": {
    "name": "ipython",
    "version": 2
   },
   "file_extension": ".py",
   "mimetype": "text/x-python",
   "name": "python",
   "nbconvert_exporter": "python",
   "pygments_lexer": "ipython2",
   "version": "2.7.6"
  }
 },
 "nbformat": 4,
 "nbformat_minor": 5
}
